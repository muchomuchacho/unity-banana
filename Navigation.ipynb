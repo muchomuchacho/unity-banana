{
 "cells": [
  {
   "cell_type": "markdown",
   "metadata": {},
   "source": [
    "### Import libraries"
   ]
  },
  {
   "cell_type": "code",
   "execution_count": 1,
   "metadata": {},
   "outputs": [],
   "source": [
    "import torch\n",
    "import numpy as np\n",
    "\n",
    "from collections import deque\n",
    "import matplotlib.pyplot as plt\n",
    "from unityagents import UnityEnvironment\n",
    "from dqn_agent import Agent"
   ]
  },
  {
   "cell_type": "markdown",
   "metadata": {},
   "source": [
    "### Learning algorithm implementation\n",
    "\n",
    "The following funtion implements the training algorithm. We also use it to evaluate the performance of our training agent by passing a value for the `training` parameter of `False`."
   ]
  },
  {
   "cell_type": "code",
   "execution_count": 2,
   "metadata": {},
   "outputs": [],
   "source": [
    "def dqn(agent, env, brain_name, n_episodes=2500, max_t=1000, eps_start=1.0,\n",
    "        eps_end=0.01, eps_decay=0.998, train=True):\n",
    "    \"\"\"Deep Q-Learning.\n",
    "    Params\n",
    "    ======\n",
    "        n_episodes (int): maximum number of training episodes\n",
    "        max_t (int): maximum number of timesteps per episode\n",
    "        eps_start (float): starting value of epsilon,\n",
    "                           for epsilon-greedy action selection\n",
    "        eps_end (float): minimum value of epsilon\n",
    "        eps_decay (float): multiplicative factor (per episode)\n",
    "                           for decreasing epsilon\n",
    "    \"\"\"\n",
    "    # list containing scores from each episode\n",
    "    scores = []\n",
    "    # set length of buffer to last 100 scores\n",
    "    scores_window = deque(maxlen=100)\n",
    "    eps = eps_start if train else 0.0\n",
    "    for i_episode in range(1, n_episodes+1):\n",
    "        # reset the environment\n",
    "        env_info = env.reset(train_mode=train)[brain_name]\n",
    "        # get the current state\n",
    "        state = env_info.vector_observations[0]\n",
    "        score = 0\n",
    "        for _ in range(max_t):\n",
    "            # select an action\n",
    "            action = agent.act(state, eps)\n",
    "            # send the action to the envirinment\n",
    "            env_info = env.step(action)[brain_name]\n",
    "            # get the next state\n",
    "            next_state = env_info.vector_observations[0]\n",
    "            reward = env_info.rewards[0]\n",
    "            done = env_info.local_done[0]\n",
    "            if train:\n",
    "                agent.step(state, action, reward, next_state, done)\n",
    "            state = next_state\n",
    "            score += reward\n",
    "            if done:\n",
    "                break\n",
    "\n",
    "        # save the most recent score\n",
    "        scores_window.append(score)\n",
    "        scores.append(score)\n",
    "        # decrease epsilon\n",
    "        eps = max(eps_end, eps_decay*eps)\n",
    "\n",
    "        print('\\rEpisode {}\\tAverage Score: {:.2f}'.format(\n",
    "            i_episode, np.mean(scores_window)), end=\"\")\n",
    "        if i_episode % 100 == 0:\n",
    "            print('\\rEpisode {}\\tAverage Score: {:.2f}'.format(\n",
    "                i_episode, np.mean(scores_window)))\n",
    "        if train and np.mean(scores_window) >= 13.0:\n",
    "            print('\\nEnv solved in {:d} episodes!\\tAverage Score: {:.2f}'\n",
    "                  .format(i_episode-100, np.mean(scores_window)))\n",
    "            torch.save(agent.qnetwork_local.state_dict(), 'checkpoint_dqn.pth')\n",
    "            break\n",
    "    return scores\n"
   ]
  },
  {
   "cell_type": "markdown",
   "metadata": {},
   "source": [
    "### Runner funtion\n",
    "\n",
    "The following funtion is used as the entry point to train or evaluate our agent. By simply passing a checkpoint file to the `chkp` parameter we set the `dqn` funtion in `eval` mode."
   ]
  },
  {
   "cell_type": "code",
   "execution_count": 3,
   "metadata": {},
   "outputs": [],
   "source": [
    "def runner(chkp=None):\n",
    "    '''\n",
    "    This function loads the environment and the agent. By default runs in\n",
    "    training mode, but if a checkpoint file is passed it runs in eval mode.\n",
    "    Params\n",
    "    ======\n",
    "        chkp (None|file): file containing a checkpoint saved during training.\n",
    "    '''\n",
    "    # instantiate Unity environment\n",
    "    env = UnityEnvironment(file_name=\"Banana_Linux/Banana.x86_64\")\n",
    "    print('\\n' + '-' * 7)\n",
    "    # get first brain\n",
    "    brain_name = env.brain_names[0]\n",
    "    brain = env.brains[brain_name]\n",
    "    env_info = env.reset(train_mode=True)[brain_name]\n",
    "    action_size = brain.vector_action_space_size\n",
    "    state = env_info.vector_observations[0]\n",
    "    state_size = len(state)\n",
    "    # instantiate the Agent using the state_size and action_size computed above\n",
    "    agent = Agent(state_size=state_size, action_size=action_size, seed=0)\n",
    "\n",
    "    # if a checkpoint is passed, go into eval mode\n",
    "    if chkp:\n",
    "        checkpoint = torch.load(chkp)\n",
    "        # load the weights from a pretrained network\n",
    "        agent.qnetwork_local.load_state_dict(checkpoint)\n",
    "        agent.qnetwork_target.load_state_dict(checkpoint)\n",
    "\n",
    "        # run eval\n",
    "        scores = dqn(agent, env, brain_name, n_episodes=5, train=False)\n",
    "    else:\n",
    "        # run training\n",
    "        scores = dqn(agent, env, brain_name, train=True)\n",
    "        \n",
    "    env.close()\n",
    "    return scores"
   ]
  },
  {
   "cell_type": "markdown",
   "metadata": {},
   "source": [
    "### Running the training phase"
   ]
  },
  {
   "cell_type": "code",
   "execution_count": 4,
   "metadata": {},
   "outputs": [
    {
     "name": "stderr",
     "output_type": "stream",
     "text": [
      "INFO:unityagents:\n",
      "'Academy' started successfully!\n",
      "Unity Academy name: Academy\n",
      "        Number of Brains: 1\n",
      "        Number of External Brains : 1\n",
      "        Lesson number : 0\n",
      "        Reset Parameters :\n",
      "\t\t\n",
      "Unity brain name: BananaBrain\n",
      "        Number of Visual Observations (per agent): 0\n",
      "        Vector Observation space type: continuous\n",
      "        Vector Observation space size (per agent): 37\n",
      "        Number of stacked Vector Observation: 1\n",
      "        Vector Action space type: discrete\n",
      "        Vector Action space size (per agent): 4\n",
      "        Vector Action descriptions: , , , \n"
     ]
    },
    {
     "name": "stdout",
     "output_type": "stream",
     "text": [
      "\n",
      "-------\n",
      "Episode 100\tAverage Score: 0.16\n",
      "Episode 200\tAverage Score: 1.68\n",
      "Episode 300\tAverage Score: 3.49\n",
      "Episode 400\tAverage Score: 4.96\n",
      "Episode 500\tAverage Score: 6.44\n",
      "Episode 600\tAverage Score: 8.32\n",
      "Episode 700\tAverage Score: 9.95\n",
      "Episode 800\tAverage Score: 11.30\n",
      "Episode 900\tAverage Score: 12.51\n",
      "Episode 1000\tAverage Score: 11.61\n",
      "Episode 1065\tAverage Score: 13.07\n",
      "Env solved in 965 episodes!\tAverage Score: 13.07\n"
     ]
    }
   ],
   "source": [
    "scores = runner()"
   ]
  },
  {
   "cell_type": "code",
   "execution_count": 5,
   "metadata": {},
   "outputs": [
    {
     "data": {
      "image/png": "[encoded data removed]",
      "text/plain": [
       "<Figure size 432x288 with 1 Axes>"
      ]
     },
     "metadata": {
      "needs_background": "light"
     },
     "output_type": "display_data"
    }
   ],
   "source": [
    "# plot the scores\n",
    "fig = plt.figure()\n",
    "ax = fig.add_subplot(111)\n",
    "plt.plot(np.arange(len(scores)), scores)\n",
    "plt.ylabel('Score')\n",
    "plt.xlabel('Episode #')\n",
    "plt.show()"
   ]
  },
  {
   "cell_type": "markdown",
   "metadata": {},
   "source": [
    "### Running the evaluation phase"
   ]
  },
  {
   "cell_type": "code",
   "execution_count": null,
   "metadata": {},
   "outputs": [
    {
     "name": "stderr",
     "output_type": "stream",
     "text": [
      "INFO:unityagents:\n",
      "'Academy' started successfully!\n",
      "Unity Academy name: Academy\n",
      "        Number of Brains: 1\n",
      "        Number of External Brains : 1\n",
      "        Lesson number : 0\n",
      "        Reset Parameters :\n",
      "\t\t\n",
      "Unity brain name: BananaBrain\n",
      "        Number of Visual Observations (per agent): 0\n",
      "        Vector Observation space type: continuous\n",
      "        Vector Observation space size (per agent): 37\n",
      "        Number of stacked Vector Observation: 1\n",
      "        Vector Action space type: discrete\n",
      "        Vector Action space size (per agent): 4\n",
      "        Vector Action descriptions: , , , \n"
     ]
    },
    {
     "name": "stdout",
     "output_type": "stream",
     "text": [
      "\n",
      "-------\n",
      "Episode 4\tAverage Score: 18.00"
     ]
    }
   ],
   "source": [
    "runner(chkp='checkpoint_dqn.pth')"
   ]
  },
  {
   "cell_type": "code",
   "execution_count": null,
   "metadata": {},
   "outputs": [],
   "source": []
  }
 ],
 "metadata": {
  "kernelspec": {
   "display_name": "drlnd",
   "language": "python",
   "name": "drlnd"
  },
  "language_info": {
   "codemirror_mode": {
    "name": "ipython",
    "version": 3
   },
   "file_extension": ".py",
   "mimetype": "text/x-python",
   "name": "python",
   "nbconvert_exporter": "python",
   "pygments_lexer": "ipython3",
   "version": "3.6.10"
  }
 },
 "nbformat": 4,
 "nbformat_minor": 4
}
